{
 "cells": [
  {
   "cell_type": "code",
   "execution_count": 3,
   "metadata": {},
   "outputs": [],
   "source": [
    "from datetime import datetime\n",
    "from datetime import timedelta\n",
    "today = datetime.today().strftime('%Y-%m-%d')\n",
    "yesterday = datetime.today() - timedelta(days=1)"
   ]
  },
  {
   "cell_type": "code",
   "execution_count": null,
   "metadata": {},
   "outputs": [],
   "source": [
    "import argparse\n",
    "\n",
    "import pyspark\n",
    "from pyspark.sql import SparkSession\n",
    "from pyspark.sql import functions as F\n",
    "\n",
    "\n",
    "parser = argparse.ArgumentParser()\n",
    "\n",
    "parser.add_argument('--input_departures', required=True)\n",
    "parser.add_argument('--input_arrivals', required=True)\n",
    "parser.add_argument('--output', required=True)\n",
    "\n",
    "args = parser.parse_args()\n",
    "\n",
    "input_departures = args.input_departures\n",
    "input_arrivals = args.input_arrivals\n",
    "output = args.output\n",
    "\n",
    "\n",
    "\n",
    "spark = SparkSession.builder \\\n",
    "    .appName('test') \\\n",
    "    .getOrCreate()\n",
    "\n",
    "spark.conf.set('temporaryGcsBucket', \"dataproc bucket\") #fill in the appropriate buckets\n"
   ]
  },
  {
   "cell_type": "code",
   "execution_count": null,
   "metadata": {},
   "outputs": [],
   "source": [
    "from pyspark.sql import types"
   ]
  },
  {
   "cell_type": "code",
   "execution_count": null,
   "metadata": {},
   "outputs": [],
   "source": [
    "arrivals_schema = types.StructType([\n",
    "    types.StructField('flight_id', types.StringType(), True), \n",
    "types.StructField('flight_identification_number', types.StringType(), True), \n",
    "types.StructField('flight_status', types.StringType(), True), \n",
    "types.StructField('flight_status_color', types.StringType(), True), \n",
    "types.StructField('flight_aircraft_model', types.StringType(), True), \n",
    "types.StructField('flight_airline_name', types.StringType(), True), \n",
    "types.StructField('airport_origin_name', types.StringType(), True), \n",
    "types.StructField('airport_origin_country', types.StringType(), True), \n",
    "types.StructField('airport_origin_city', types.StringType(), True), \n",
    "types.StructField('airport_origin_timezone', types.StringType(), True), \n",
    "types.StructField('airport_destination_name', types.StringType(), True), \n",
    "types.StructField('airport_destination_timezone', types.StringType(), True), \n",
    "types.StructField('airport_destination_country', types.StringType(), True), \n",
    "types.StructField('airport_destination_city', types.StringType(), True), \n",
    "types.StructField('flight_time_scheduled_departure', types.TimestampType(), True), \n",
    "types.StructField('flight_time_scheduled_arrival', types.TimestampType(), True), \n",
    "types.StructField('flight_time_real_departure', types.TimestampType(), True), \n",
    "types.StructField('flight_time_real_arrival', types.TimestampType(), True), \n",
    "types.StructField('flight_time_duration_minutes', types.LongType(), True)])"
   ]
  },
  {
   "cell_type": "code",
   "execution_count": null,
   "metadata": {},
   "outputs": [],
   "source": [
    "departures_schema = types.StructType([\n",
    "    types.StructField('flight_id', types.StringType(), True), \n",
    "types.StructField('flight_identification_number', types.StringType(), True), \n",
    "types.StructField('flight_status', types.StringType(), True), \n",
    "types.StructField('flight_status_color', types.StringType(), True), \n",
    "types.StructField('flight_aircraft_model', types.StringType(), True), \n",
    "types.StructField('flight_airline_name', types.StringType(), True), \n",
    "types.StructField('airport_origin_name', types.StringType(), True), \n",
    "types.StructField('airport_origin_country', types.StringType(), True), \n",
    "types.StructField('airport_origin_city', types.StringType(), True), \n",
    "types.StructField('airport_origin_timezone', types.StringType(), True), \n",
    "types.StructField('airport_destination_name', types.StringType(), True), \n",
    "types.StructField('airport_destination_timezone', types.StringType(), True), \n",
    "types.StructField('airport_destination_country', types.StringType(), True), \n",
    "types.StructField('airport_destination_city', types.StringType(), True), \n",
    "types.StructField('flight_time_scheduled_departure', types.TimestampType(), True), \n",
    "types.StructField('flight_time_scheduled_arrival', types.TimestampType(), True), \n",
    "types.StructField('flight_time_real_departure', types.TimestampType(), True), \n",
    "types.StructField('flight_time_real_arrival', types.TimestampType(), True), \n",
    "types.StructField('flight_time_duration_minutes', types.LongType(), True)])"
   ]
  },
  {
   "cell_type": "code",
   "execution_count": null,
   "metadata": {},
   "outputs": [],
   "source": [
    "df_arrivals_spark = spark.read.schema(arrivals_schema).options(delimiter=',',header='true',).csv(input_arrivals)\n"
   ]
  },
  {
   "cell_type": "code",
   "execution_count": null,
   "metadata": {},
   "outputs": [],
   "source": [
    "df_departures_spark = spark.read.schema(departures_schema).options(delimiter=',',header='true',).csv(f\"data/departures/departure_flightradar_{yesterday}.csv\")"
   ]
  },
  {
   "cell_type": "code",
   "execution_count": null,
   "metadata": {},
   "outputs": [],
   "source": [
    "df_union = df_departures_spark.union(df_arrivals_spark)"
   ]
  },
  {
   "cell_type": "code",
   "execution_count": null,
   "metadata": {},
   "outputs": [],
   "source": [
    "df_union.write.format('bigquery') \\\n",
    "    .option('table', output) \\\n",
    "    .mode(\"overwrite\") \\\n",
    "    .save()\n",
    "    "
   ]
  },
  {
   "cell_type": "markdown",
   "metadata": {},
   "source": []
  },
  {
   "cell_type": "markdown",
   "metadata": {},
   "source": []
  }
 ],
 "metadata": {
  "kernelspec": {
   "display_name": "zoomcamp",
   "language": "python",
   "name": "python3"
  },
  "language_info": {
   "codemirror_mode": {
    "name": "ipython",
    "version": 3
   },
   "file_extension": ".py",
   "mimetype": "text/x-python",
   "name": "python",
   "nbconvert_exporter": "python",
   "pygments_lexer": "ipython3",
   "version": "3.8.18"
  }
 },
 "nbformat": 4,
 "nbformat_minor": 2
}
